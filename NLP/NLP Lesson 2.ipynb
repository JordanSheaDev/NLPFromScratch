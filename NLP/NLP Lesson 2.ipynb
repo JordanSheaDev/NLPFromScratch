{
 "cells": [
  {
   "cell_type": "markdown",
   "metadata": {},
   "source": [
    "<h1><div align=\"center\">Natural Language Processing From Scratch</div></h1>\n",
    "<div align=\"center\">Bruno Gonçalves</div>\n",
    "<div align=\"center\"><a href=\"http://www.data4sci.com/\">www.data4sci.com</a></div>\n",
    "<div align=\"center\">@bgoncalves, @data4sci</div>"
   ]
  },
  {
   "cell_type": "markdown",
   "metadata": {},
   "source": [
    "# Lesson II - Topic Modeling"
   ]
  },
  {
   "cell_type": "code",
   "execution_count": 1,
   "metadata": {},
   "outputs": [],
   "source": [
    "import string\n",
    "from collections import Counter\n",
    "from pprint import pprint\n",
    "import gzip\n",
    "import matplotlib.pyplot as plt \n",
    "import numpy as np\n",
    "from numpy.linalg import svd\n",
    "from numpy import diag\n",
    "\n",
    "%matplotlib inline"
   ]
  },
  {
   "cell_type": "markdown",
   "metadata": {},
   "source": [
    "# Preprocessing"
   ]
  },
  {
   "cell_type": "markdown",
   "metadata": {},
   "source": [
    "Load a standard list of stopwords from a file"
   ]
  },
  {
   "cell_type": "code",
   "execution_count": 2,
   "metadata": {},
   "outputs": [],
   "source": [
    "stopwords = set([word.lower().strip() for word in open(\"data/nltk_stopwords.txt\", \"rt\").readlines()])"
   ]
  },
  {
   "cell_type": "markdown",
   "metadata": {},
   "source": [
    "Define a function to extract the words from our input file. Here we have to be (slightly) more careful than in the previous lesson since we want to keep #tags and @mentions and remove stopwords."
   ]
  },
  {
   "cell_type": "code",
   "execution_count": 3,
   "metadata": {},
   "outputs": [],
   "source": [
    "def extract_words(text, stopwords):\n",
    "    temp = text.split() # Split the text on whitespace\n",
    "    text_words = []\n",
    "\n",
    "    punctuation = set(string.punctuation)\n",
    "    \n",
    "    #Keep #tags and @mentions\n",
    "    punctuation.remove(\"#\")\n",
    "    punctuation.remove(\"@\")\n",
    "    \n",
    "    for word in temp:\n",
    "        # Remove any punctuation characters present in the beginning of the word\n",
    "        while len(word) > 0 and word[0] in punctuation:\n",
    "            word = word[1:]\n",
    "\n",
    "        # Remove any punctuation characters present in the end of the word\n",
    "        while len(word) > 0 and word[-1] in punctuation:\n",
    "            word = word[:-1]\n",
    "\n",
    "        # Simple rule to eliminate (most) URLs\n",
    "        if len(word) > 0 and \"/\" not in word:\n",
    "            # If it's not a stopword\n",
    "            if word.lower() not in stopwords:\n",
    "                # Append this word into our list of words.\n",
    "                text_words.append(word.lower())\n",
    "        \n",
    "    return text_words"
   ]
  },
  {
   "cell_type": "markdown",
   "metadata": {},
   "source": [
    "Process the data from the file. File was obtained from crowdflower (https://www.crowdflower.com/data-for-everyone/) and contains a list of tweets about Apple from 2014 and some information about their sentiment. For our purposes, we only care about the text of each tweet that is located in the last column of the csv file.\n",
    "\n",
    "We treat each tweet as an individual document, and limit ourselves to only the first 100 tweets."
   ]
  },
  {
   "cell_type": "code",
   "execution_count": 4,
   "metadata": {},
   "outputs": [],
   "source": [
    "tweets = []\n",
    "line_count = 0\n",
    "\n",
    "for line in open(\"data/Apple-Twitter-Sentiment-DFE.csv\", \"rt\"):\n",
    "    fields = line.strip().split(',')\n",
    "    \n",
    "    line_count += 1\n",
    "    \n",
    "    # Skip the first line of the file which contains the header\n",
    "    if line_count == 1:\n",
    "        continue\n",
    "    \n",
    "    text = \",\".join(fields[11:])\n",
    "    \n",
    "    if len(text) == 0:\n",
    "        continue\n",
    "    \n",
    "    words = extract_words(text, stopwords)\n",
    "    \n",
    "    if len(words) > 0:\n",
    "        tweets.append(words)\n",
    "        \n",
    "    if len(tweets) == 200:\n",
    "        break"
   ]
  },
  {
   "cell_type": "markdown",
   "metadata": {},
   "source": [
    "Define the function to calculate the Inverse Document Frequency for each word and the TFIDF matrix. These functions were introduced in the previous lesson."
   ]
  },
  {
   "cell_type": "code",
   "execution_count": 5,
   "metadata": {},
   "outputs": [],
   "source": [
    "def inv_doc_freq(corpus_words):\n",
    "    number_docs = len(corpus_words)\n",
    "    \n",
    "    document_count = {}\n",
    "\n",
    "    for document in corpus_words:\n",
    "        word_set = set(document)\n",
    "\n",
    "        for word in word_set:\n",
    "            document_count[word] = document_count.get(word, 0) + 1\n",
    "    \n",
    "    IDF = {}\n",
    "    \n",
    "    for word in document_count:\n",
    "        IDF[word] = np.log(number_docs/document_count[word])\n",
    "        \n",
    "    \n",
    "    return IDF\n",
    "\n",
    "def tf_idf(corpus_words):\n",
    "    IDF = inv_doc_freq(corpus_words)\n",
    "    \n",
    "    TFIDF = []\n",
    "    \n",
    "    for document in corpus_words:\n",
    "        TFIDF.append(Counter(document))\n",
    "    \n",
    "    for document in TFIDF:\n",
    "        for word in document:\n",
    "            document[word] = document[word]*IDF[word]\n",
    "            \n",
    "    return TFIDF"
   ]
  },
  {
   "cell_type": "markdown",
   "metadata": {},
   "source": [
    "Get the TFIDF matrix for our corpus of tweets. We should note that while we call it a matrix, this is effectively a list of dictionaries, which we can consider to be a sparse representation of a matrix."
   ]
  },
  {
   "cell_type": "code",
   "execution_count": 6,
   "metadata": {},
   "outputs": [],
   "source": [
    "TFIDF = tf_idf(tweets)"
   ]
  },
  {
   "cell_type": "markdown",
   "metadata": {},
   "source": [
    "For convenience, extract the word_dict and word_list from the TFIDF matrix."
   ]
  },
  {
   "cell_type": "code",
   "execution_count": 7,
   "metadata": {},
   "outputs": [],
   "source": [
    "def build_vocabulary(TFIDF):\n",
    "    words = set()\n",
    "    \n",
    "    for document in TFIDF:\n",
    "        words |= document.keys()\n",
    "    \n",
    "    word_list = list(words)\n",
    "    word_dict = dict(zip(word_list, range(len(word_list))))\n",
    "    \n",
    "    return word_dict, word_list"
   ]
  },
  {
   "cell_type": "code",
   "execution_count": 8,
   "metadata": {},
   "outputs": [],
   "source": [
    "word_dict, word_list = build_vocabulary(TFIDF)"
   ]
  },
  {
   "cell_type": "code",
   "execution_count": 9,
   "metadata": {},
   "outputs": [
    {
     "name": "stdout",
     "output_type": "stream",
     "text": [
      "We have 927 words in our vocabulary\n"
     ]
    }
   ],
   "source": [
    "vocabulary_size = len(word_dict)\n",
    "print(\"We have\", vocabulary_size, \"words in our vocabulary\")"
   ]
  },
  {
   "cell_type": "markdown",
   "metadata": {},
   "source": [
    "Now use the TFIDF matrix and our vocabulary to generate the Term Document matrix. This is just a matter of rearranging the values in our (sparse) TFIDF matrix into the full TD matrix."
   ]
  },
  {
   "cell_type": "code",
   "execution_count": 10,
   "metadata": {},
   "outputs": [],
   "source": [
    "def term_document_matrix(TFIDF, word_list, word_dict):\n",
    "    vocabulary_size = len(word_dict)\n",
    "    number_documents = len(TFIDF)\n",
    "    \n",
    "    TDM = np.zeros((vocabulary_size, number_documents))\n",
    "    \n",
    "    for doc in range(number_documents):\n",
    "        document = TFIDF[doc]\n",
    "        \n",
    "        for word in document.keys():\n",
    "            pos = word_dict[word]\n",
    "            \n",
    "            TDM[pos, doc] = document[word]\n",
    "            \n",
    "    return TDM"
   ]
  },
  {
   "cell_type": "code",
   "execution_count": 11,
   "metadata": {},
   "outputs": [
    {
     "name": "stdout",
     "output_type": "stream",
     "text": [
      "Our dataset has:\n",
      "927 unique words\n",
      "200 documents\n"
     ]
    }
   ],
   "source": [
    "TDM = term_document_matrix(TFIDF, word_list, word_dict)\n",
    "print(\"Our dataset has:\\n%u unique words\\n%u documents\"%(TDM.shape))"
   ]
  },
  {
   "cell_type": "markdown",
   "metadata": {},
   "source": [
    "# Explicit Semantic Analysis"
   ]
  },
  {
   "cell_type": "markdown",
   "metadata": {},
   "source": [
    "In ESA we use the TD matrix of our corpus as a knowledge base that we can use to look up related documents. To demonstrate how this works, let's create a new document:"
   ]
  },
  {
   "cell_type": "code",
   "execution_count": 12,
   "metadata": {},
   "outputs": [],
   "source": [
    "new_tweet = ['macbook', 'mini', 'rocket']"
   ]
  },
  {
   "cell_type": "markdown",
   "metadata": {},
   "source": [
    "This is not an actual sentence since, for clarity, we are not including stopwords.\n",
    "\n",
    "In the TD formulation, the values in the word (row) vector representa how much each document is \"activated\" by that specific word. Naturally, documents in which the word does not appear have weight zero. We can use these word vectors to find a vector representation of our new document where each value is our related it is to every other document in our knowledge base. You can think of this as the set of results one might obtain after a query in a search engine!\n",
    "\n",
    "The **find_related** simply calcuates the vector corresponding to the new \"document\" and returns a list of the corresponding weights sorted in decreasing order:"
   ]
  },
  {
   "cell_type": "code",
   "execution_count": 13,
   "metadata": {},
   "outputs": [],
   "source": [
    "def find_related_docs(tweet, TDM):\n",
    "    new_vector = np.zeros(TDM.shape[1])\n",
    "    \n",
    "    for word in tweet:\n",
    "        pos = word_dict[word]\n",
    "        new_vector += TDM[pos, :]\n",
    "        \n",
    "    # Now the entries of new_vector tell us which documents are activated by this one.\n",
    "    # Let's extract the list of documents sorted by activation\n",
    "    doc_list = sorted(zip(range(TDM.shape[1]), new_vector), key=lambda x:x[1], reverse=True)\n",
    "    \n",
    "    return doc_list"
   ]
  },
  {
   "cell_type": "code",
   "execution_count": 14,
   "metadata": {},
   "outputs": [],
   "source": [
    "related = find_related_docs(new_tweet, TDM)"
   ]
  },
  {
   "cell_type": "markdown",
   "metadata": {},
   "source": [
    "Let's take a look a the top 5 results:"
   ]
  },
  {
   "cell_type": "code",
   "execution_count": 15,
   "metadata": {},
   "outputs": [
    {
     "name": "stdout",
     "output_type": "stream",
     "text": [
      "17 jh hines staff newly issued @apple #connected macbook ipad mini #txed\n",
      "34 rt @tra_hall jh hines staff newly issued @apple #connected macbook ipad mini #txed #txed\n",
      "2 #aapl:5 rocket stocks buy december gains apple\n",
      "166 ipad mini unboxing via @youtube @apple #ipadmini #ipad #macbook #macbookpro #startup #hipster #unboxing\n",
      "167 ipad mini first time startup via @youtube @apple #ipadmini #ipad #macbook #macbookpro #startup #hipster #unbox\n"
     ]
    }
   ],
   "source": [
    "for tweet, score in related[:5]:\n",
    "    print(tweet, \" \".join(tweets[tweet]))"
   ]
  },
  {
   "cell_type": "markdown",
   "metadata": {},
   "source": [
    "With such small documents, the results are easy to interpret. The first two result are due to mentions of **macbook** and **mini**, the third due to the presence of the word **rocket** but the remaining two results don't include any words in common with our original tweet, just words that appear in similar contexts."
   ]
  },
  {
   "cell_type": "code",
   "execution_count": 16,
   "metadata": {},
   "outputs": [],
   "source": [
    "def similarity(vec1, vec2):\n",
    "    sim = np.dot(vec1, vec2)\n",
    "    norm1 = np.sqrt(np.dot(vec1, vec1))\n",
    "    norm2 = np.sqrt(np.dot(vec2, vec2))\n",
    "    \n",
    "    return sim/(norm1*norm2)"
   ]
  },
  {
   "cell_type": "code",
   "execution_count": 17,
   "metadata": {},
   "outputs": [],
   "source": [
    "def find_similar_words(tweet, TDM):\n",
    "    new_vector = np.zeros(TDM.shape[1])\n",
    "    \n",
    "    for word in tweet:\n",
    "        pos = word_dict[word]\n",
    "        new_vector += TDM[pos, :]\n",
    "    \n",
    "    sim = [similarity(new_vector, TDM[i, :]) for i in range(TDM.shape[0])]\n",
    "    \n",
    "    sim_words = sorted(zip(range(TDM.shape[0]), sim), key=lambda x:x[1], reverse=True)\n",
    "    \n",
    "    return sim_words"
   ]
  },
  {
   "cell_type": "code",
   "execution_count": 18,
   "metadata": {},
   "outputs": [],
   "source": [
    "similar = find_similar_words(new_tweet, TDM)"
   ]
  },
  {
   "cell_type": "code",
   "execution_count": 19,
   "metadata": {},
   "outputs": [
    {
     "name": "stdout",
     "output_type": "stream",
     "text": [
      "macbook 0.7640071602554539\n",
      "mini 0.7398422630773179\n",
      "ipad 0.6849608378181927\n",
      "#macbook 0.6621957683753698\n",
      "#startup 0.6273056189756162\n"
     ]
    }
   ],
   "source": [
    "for word, score in similar[:5]:\n",
    "    print(word_list[word], score)"
   ]
  },
  {
   "cell_type": "markdown",
   "metadata": {},
   "source": [
    "This approach also returns words that are not included in the document but that are used in a similar context, such as #hipster. One might use this extra words (above some finetuned threshold of similarity) to expand our query and retrieve furhter related documents."
   ]
  },
  {
   "cell_type": "markdown",
   "metadata": {},
   "source": [
    "# Latent Semantic Analysis"
   ]
  },
  {
   "cell_type": "markdown",
   "metadata": {},
   "source": [
    "LSA analysis, sometimes refered to as Latent Semantic Indexing, relies on the well known Singular Value Decomposition. Singular Values (and Singular Vectors) can be thought of as being a generalization of the more common eigenvalues (and eigenvectors) for the case of non-square matrices. \n",
    "\n",
    "The first step in any LSA analysis is to apply SVD to the Term-Document matrix:"
   ]
  },
  {
   "cell_type": "code",
   "execution_count": 20,
   "metadata": {},
   "outputs": [],
   "source": [
    "u, sigma, vt = svd(TDM)"
   ]
  },
  {
   "cell_type": "markdown",
   "metadata": {},
   "source": [
    "The resulting matrices have the expected shapes, except the singular value matrix, **sigma** that is simply a vector. This is an optimization of the numpy function meant to save memory."
   ]
  },
  {
   "cell_type": "code",
   "execution_count": 21,
   "metadata": {},
   "outputs": [
    {
     "name": "stdout",
     "output_type": "stream",
     "text": [
      "(927, 927) (200,) (200, 200)\n"
     ]
    }
   ],
   "source": [
    "m, n = TDM.shape\n",
    "print(u.shape, sigma.shape, vt.shape)"
   ]
  },
  {
   "cell_type": "markdown",
   "metadata": {},
   "source": [
    "We can now reduce the internal dimention of these matrices to, say, 50. "
   ]
  },
  {
   "cell_type": "code",
   "execution_count": 22,
   "metadata": {},
   "outputs": [],
   "source": [
    "k = 10\n",
    "\n",
    "# Convert the vector of singular values into a diagonal matrix\n",
    "sigma_k = sigma[:k]\n",
    "Sk = diag(sigma_k)\n",
    "\n",
    "# Drop the extraneous dimensions in the other two matrices.\n",
    "uk = u[:,:k]\n",
    "vtk = vt[:k, :]"
   ]
  },
  {
   "cell_type": "markdown",
   "metadata": {},
   "source": [
    "In this way, we preserve the most significant (higher sigma values) latent dimensions of the dataset while discarding the rest. The idea is simple, SVD projects the original dataset into an internal space which is a linear combination of the original one. Each dimension in this space can be thought of as an underlying topic in the data. By preserving only the most dominant topics in effect we are simplifying the data and, potentially, removing noise. "
   ]
  },
  {
   "cell_type": "code",
   "execution_count": 23,
   "metadata": {},
   "outputs": [
    {
     "name": "stdout",
     "output_type": "stream",
     "text": [
      "(927, 10) (10, 10) (10, 200)\n"
     ]
    }
   ],
   "source": [
    "print(uk.shape, Sk.shape, vtk.shape)"
   ]
  },
  {
   "cell_type": "markdown",
   "metadata": {},
   "source": [
    "There are no easy ways to determine the number of topics to choose, but a good rule of thumb is to identify kinks in the values of sigma"
   ]
  },
  {
   "cell_type": "code",
   "execution_count": 24,
   "metadata": {},
   "outputs": [
    {
     "data": {
      "text/plain": [
       "[<matplotlib.lines.Line2D at 0x26511540650>]"
      ]
     },
     "execution_count": 24,
     "metadata": {},
     "output_type": "execute_result"
    },
    {
     "data": {
      "image/png": "[encoded data removed]",
      "text/plain": [
       "<Figure size 640x480 with 1 Axes>"
      ]
     },
     "metadata": {},
     "output_type": "display_data"
    }
   ],
   "source": [
    "plt.plot(sigma)"
   ]
  },
  {
   "cell_type": "markdown",
   "metadata": {},
   "source": [
    "We can also explore the way in which the topics are defined by considering the words for which they have stronger weights:"
   ]
  },
  {
   "cell_type": "code",
   "execution_count": 25,
   "metadata": {},
   "outputs": [],
   "source": [
    "# Sort the list of words by the weight they have in a specific topic\n",
    "def top_words(vector, word_list):\n",
    "    doc_list = sorted(zip(word_list, vector), key=lambda x:x[1], reverse=True)\n",
    "    \n",
    "    return doc_list"
   ]
  },
  {
   "cell_type": "markdown",
   "metadata": {},
   "source": [
    "For example, for topic 3, we have strong mentions of AIDS day and the Produc (RED) iPhone launch:"
   ]
  },
  {
   "cell_type": "code",
   "execution_count": 26,
   "metadata": {},
   "outputs": [
    {
     "name": "stdout",
     "output_type": "stream",
     "text": [
      "day 0.2874648801432991\n",
      "aids 0.2826216409753862\n",
      "world 0.269225368203939\n",
      "red 0.2647556149261551\n",
      "logo 0.22903406070460303\n",
      "#apple 0.18504347302677682\n",
      "apple 0.13868223906603938\n",
      "abl 0.1263889641076419\n",
      "dec 0.1263889641076419\n",
      "launches 0.1263889641076419\n"
     ]
    }
   ],
   "source": [
    "topic_words = top_words(uk[:,3], word_list)\n",
    "for word, weight in topic_words[:10]:\n",
    "    print(word, weight)"
   ]
  },
  {
   "cell_type": "markdown",
   "metadata": {},
   "source": [
    "On the other hand, if we were trying to map a specific sentence or document into the most relevant topic we would simply have to project it into the singular space. First we define the vector in the \"regular\" word space:"
   ]
  },
  {
   "cell_type": "code",
   "execution_count": 27,
   "metadata": {},
   "outputs": [],
   "source": [
    "document = ['ipad', 'mini', 'price']\n",
    "\n",
    "doc_vector = np.zeros(vocabulary_size)\n",
    "for word in document:\n",
    "    doc_vector[word_dict[word]] += 1"
   ]
  },
  {
   "cell_type": "markdown",
   "metadata": {},
   "source": [
    "and now we project it into the singular space:"
   ]
  },
  {
   "cell_type": "code",
   "execution_count": 28,
   "metadata": {},
   "outputs": [
    {
     "name": "stdout",
     "output_type": "stream",
     "text": [
      "array([-1.62243400e-04,  1.44900491e-02, -1.09973213e-03,  4.30257980e-05,\n",
      "       -9.69106965e-04,  4.54646796e-03, -7.58613138e-04,  2.40772326e-03,\n",
      "       -3.82599561e-03,  1.95924079e-03])\n"
     ]
    }
   ],
   "source": [
    "doc_singular = 1/sigma_k*np.dot(uk.T, doc_vector)\n",
    "pprint(doc_singular)"
   ]
  },
  {
   "cell_type": "markdown",
   "metadata": {},
   "source": [
    "From where we see that hte most relevant topic is topic number 1:"
   ]
  },
  {
   "cell_type": "code",
   "execution_count": 29,
   "metadata": {},
   "outputs": [
    {
     "name": "stdout",
     "output_type": "stream",
     "text": [
      "#macbook 0.30723559382139054\n",
      "@youtube 0.305401456997267\n",
      "#hipster 0.305401456997267\n",
      "#startup 0.3054014569972667\n",
      "#macbookpro 0.2980960628908029\n",
      "via 0.29187957210987725\n",
      "mini 0.20949666233803665\n",
      "ipad 0.2038176600121252\n",
      "#ipadmini 0.19891025664321738\n",
      "startup 0.19327488007614949\n"
     ]
    }
   ],
   "source": [
    "topic = np.argmax(doc_singular)\n",
    "\n",
    "topic_words = top_words(uk[:,topic], word_list)\n",
    "for word, weight in topic_words[:10]:\n",
    "    print(word, weight)"
   ]
  },
  {
   "cell_type": "markdown",
   "metadata": {},
   "source": [
    "Which indeed seems relevant."
   ]
  },
  {
   "cell_type": "markdown",
   "metadata": {},
   "source": [
    "# Non-Negative Matrix Factorization"
   ]
  },
  {
   "cell_type": "markdown",
   "metadata": {},
   "source": [
    "The idea behind applying NMF to a Term-Document Matrix is similar to the goals behind using SVD to perform Latent Semantic Analysis. NMF is a general matrix factorization algorithm and, as such, the factor matrices it finds can also be thought of as internal or latent dimensions. \n",
    "\n",
    "Similarly to the case of SVD, we can perform a partial reconstruction of the original matrix by reducing the internal dimensions. Naturally, as the number of latent dimensions increases, the reconstruction error decreases since we are removing less and less information:"
   ]
  },
  {
   "cell_type": "code",
   "execution_count": 30,
   "metadata": {},
   "outputs": [],
   "source": [
    "def NMF(V, k):\n",
    "    n, m = V.shape\n",
    "\n",
    "    W = np.random.rand(n, k)\n",
    "    H = np.random.rand(k, m)\n",
    "\n",
    "    error = 1\n",
    "    err = 1\n",
    "\n",
    "    while err > 1e-4:\n",
    "        old_error = error\n",
    "\n",
    "        hn = np.dot(W.T, V)\n",
    "        hd = np.dot(W.T, np.dot(W, H))\n",
    "\n",
    "        H = H*hn/hd\n",
    "\n",
    "        wn = np.dot(V, H.T)\n",
    "        wd = np.dot(W, np.dot(H, H.T))\n",
    "\n",
    "        W = W*wn/wd\n",
    "\n",
    "        error = np.sum(np.power(V-np.dot(W, H), 2.0))\n",
    "        err = np.abs(old_error-error)\n",
    "\n",
    "    return W, H, error\n"
   ]
  },
  {
   "cell_type": "markdown",
   "metadata": {},
   "source": [
    "Let's see how the error changes with the number of components."
   ]
  },
  {
   "cell_type": "code",
   "execution_count": 31,
   "metadata": {},
   "outputs": [
    {
     "name": "stdout",
     "output_type": "stream",
     "text": [
      "2 32018.602605096265\n",
      "3 31373.937796574875\n",
      "4 30774.9776836724\n",
      "5 30267.024040755397\n",
      "6 29791.48216185133\n",
      "7 29358.128037887265\n",
      "8 28976.94571702411\n",
      "9 28464.837791189282\n",
      "10 28068.682515449334\n",
      "11 27636.71412848801\n",
      "12 27228.974659607753\n",
      "13 26782.466605673802\n",
      "14 26378.556446251427\n",
      "15 26048.759044159116\n",
      "16 25665.85957734987\n",
      "17 25252.84939570555\n",
      "18 24884.26401727046\n",
      "19 24537.22427435115\n",
      "20 24224.931182227312\n",
      "21 23786.883245263987\n",
      "22 23426.930534749124\n",
      "23 23095.049784440253\n",
      "24 22790.32872089779\n",
      "25 22510.357498375655\n",
      "26 22151.094398701418\n",
      "27 21690.169993608168\n",
      "28 21500.087947744574\n",
      "29 21182.883950473963\n",
      "30 20807.289102927414\n",
      "31 20491.227137860926\n",
      "32 20168.35396566066\n",
      "33 19864.80579214795\n",
      "34 19585.35813565388\n",
      "35 19196.549229812692\n"
     ]
    }
   ],
   "source": [
    "error = []\n",
    "\n",
    "for comps in range(2, 35+1):\n",
    "    W, H, err = NMF(TDM, comps)\n",
    "    print(comps, err)\n",
    "    error.append(err)"
   ]
  },
  {
   "cell_type": "markdown",
   "metadata": {},
   "source": [
    "The nan values found above are due to numerical instabilities. In practice you should use a well tested numerical library such as sklearn."
   ]
  },
  {
   "cell_type": "code",
   "execution_count": 32,
   "metadata": {},
   "outputs": [
    {
     "data": {
      "text/plain": [
       "Text(0.5, 1.0, 'Non-Negative Matrix Factorization')"
      ]
     },
     "execution_count": 32,
     "metadata": {},
     "output_type": "execute_result"
    },
    {
     "data": {
      "image/png": "[encoded data removed]",
      "text/plain": [
       "<Figure size 640x480 with 1 Axes>"
      ]
     },
     "metadata": {},
     "output_type": "display_data"
    }
   ],
   "source": [
    "plt.plot(range(2, 35+1), error)\n",
    "plt.xlabel('number of components')\n",
    "plt.ylabel('reconstruction error')\n",
    "plt.title('Non-Negative Matrix Factorization')"
   ]
  },
  {
   "cell_type": "markdown",
   "metadata": {},
   "source": [
    "For the remainder of this section, lets fix the number of so that we can use these results to illustrate the power of NMF."
   ]
  },
  {
   "cell_type": "code",
   "execution_count": 33,
   "metadata": {},
   "outputs": [],
   "source": [
    "W, H, err = NMF(TDM, 30)"
   ]
  },
  {
   "cell_type": "markdown",
   "metadata": {},
   "source": [
    "When we apply NMF to a Term-Document matrix, as defined above, the resulting factors prove useful for topic detection. In particular, the W matrix provides us with the definition of each topic as a weighted distribution over all the words in the corpus:"
   ]
  },
  {
   "cell_type": "markdown",
   "metadata": {},
   "source": [
    "Let's look at a couple of examples:"
   ]
  },
  {
   "cell_type": "code",
   "execution_count": 34,
   "metadata": {
    "scrolled": true
   },
   "outputs": [
    {
     "name": "stdout",
     "output_type": "stream",
     "text": [
      "thanks 38.37250181958582\n",
      "@applenws 20.607711551060337\n",
      "non 20.607711551060337\n",
      "#rumors 20.607711551060337\n",
      "dummies 20.607711551060337\n",
      "drops 20.607711551060337\n",
      "points 20.607711551060337\n",
      "dumb 20.607711551060337\n",
      "minute 20.607711551060337\n",
      "factual 20.607711551060337\n"
     ]
    }
   ],
   "source": [
    "topic_words = top_words(W[:,0], word_list)\n",
    "for word, weight in topic_words[:10]:\n",
    "    print(word, weight)"
   ]
  },
  {
   "cell_type": "code",
   "execution_count": 35,
   "metadata": {},
   "outputs": [
    {
     "name": "stdout",
     "output_type": "stream",
     "text": [
      "wiped 22.942693184804323\n",
      "trades 22.942693184804323\n",
      "decline 22.942693184804323\n",
      "computer 22.942693184804323\n",
      "yesterday 22.942693184804323\n",
      "automatic 22.942693184804323\n",
      "rapid 22.942693184804323\n",
      "40bn 22.942693184804323\n",
      "algorithmic 22.942693184804323\n",
      "guest 22.942693184804323\n"
     ]
    }
   ],
   "source": [
    "topic_words = top_words(W[:,10], word_list)\n",
    "for word, weight in topic_words[:10]:\n",
    "    print(word, weight)"
   ]
  },
  {
   "cell_type": "code",
   "execution_count": null,
   "metadata": {},
   "outputs": [],
   "source": []
  }
 ],
 "metadata": {
  "anaconda-cloud": {},
  "kernelspec": {
   "display_name": "Python 3",
   "language": "python",
   "name": "python3"
  },
  "language_info": {
   "codemirror_mode": {
    "name": "ipython",
    "version": 3
   },
   "file_extension": ".py",
   "mimetype": "text/x-python",
   "name": "python",
   "nbconvert_exporter": "python",
   "pygments_lexer": "ipython3",
   "version": "3.11.7"
  }
 },
 "nbformat": 4,
 "nbformat_minor": 2
}
